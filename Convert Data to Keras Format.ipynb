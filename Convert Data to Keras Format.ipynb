{
 "cells": [
  {
   "cell_type": "markdown",
   "id": "a39592d8",
   "metadata": {},
   "source": [
    "### This will convert the text file to the Keras format"
   ]
  },
  {
   "cell_type": "markdown",
   "id": "92cfa187",
   "metadata": {},
   "source": [
    "The training data and test data needs to be stored in a directory format as below. The class will be \"pos\" and \"neg\" for positive and negative format. \n",
    "\n",
    "train/\n",
    "\n",
    "---pos/\n",
    "\n",
    "------review_1.txt\n",
    "\n",
    "------review_2.txt\n",
    "\n",
    "---neg/\n",
    "\n",
    "------review_1.txt\n",
    "\n",
    "------review_2.txt\n",
    "\n"
   ]
  },
  {
   "cell_type": "code",
   "execution_count": 1,
   "id": "535eab1d",
   "metadata": {},
   "outputs": [],
   "source": [
    "import bz2\n",
    "import os"
   ]
  },
  {
   "cell_type": "code",
   "execution_count": 2,
   "id": "63a1e1c0",
   "metadata": {},
   "outputs": [],
   "source": [
    "def to_keras_format(txt_bz_file, output_path=\".\", ):\n",
    "    \n",
    "    if not os.path.exists(output_path):\n",
    "        os.makedirs(output_path)\n",
    "    \n",
    "    if not os.path.exists(f\"{output_path}/pos\"):\n",
    "        os.makedirs(f\"{output_path}/pos\")\n",
    "    \n",
    "    if not os.path.exists(f\"{output_path}/neg\"):\n",
    "        os.makedirs(f\"{output_path}/neg\")\n",
    "    \n",
    "    row_numbers = [0, 0, 0]   \n",
    "    label_names = [\"\", \"neg\", \"pos\"]\n",
    "    \n",
    "    with bz2.open(txt_bz_file, \"rt\", encoding='utf-8') as bz_file:\n",
    "        for line in bz_file:\n",
    "            # Label and review are separated by space\n",
    "            label, review = line.split(' ', maxsplit=1)\n",
    "            \n",
    "            # label has a format __label__2  we just need the last number\n",
    "            label = int(label[9:])\n",
    "            \n",
    "            row_numbers[label] += 1\n",
    "            out_file_name = f\"{output_path}/{label_names[label]}/review_{row_numbers[label]}.txt\"\n",
    "            out_file = open(out_file_name, \"wt\", encoding='utf-8')\n",
    "            out_file.write(review)\n",
    "            out_file.close()"
   ]
  },
  {
   "cell_type": "markdown",
   "id": "f358406d",
   "metadata": {},
   "source": [
    "### Process the train and test dataset"
   ]
  },
  {
   "cell_type": "code",
   "execution_count": 3,
   "id": "53be766c",
   "metadata": {},
   "outputs": [],
   "source": [
    "to_keras_format(\"data/test.ft.txt.bz2\", \"data/test\")"
   ]
  },
  {
   "cell_type": "code",
   "execution_count": 4,
   "id": "b89f2509",
   "metadata": {},
   "outputs": [
    {
     "ename": "KeyboardInterrupt",
     "evalue": "",
     "output_type": "error",
     "traceback": [
      "\u001b[1;31m---------------------------------------------------------------------------\u001b[0m",
      "\u001b[1;31mKeyboardInterrupt\u001b[0m                         Traceback (most recent call last)",
      "\u001b[1;32mC:\\Users\\SIVA~1.ALA\\AppData\\Local\\Temp/ipykernel_21236/1063906483.py\u001b[0m in \u001b[0;36m<module>\u001b[1;34m\u001b[0m\n\u001b[1;32m----> 1\u001b[1;33m \u001b[0mto_keras_format\u001b[0m\u001b[1;33m(\u001b[0m\u001b[1;34m\"data/train.ft.txt.bz2\"\u001b[0m\u001b[1;33m,\u001b[0m \u001b[1;34m\"data/train\"\u001b[0m\u001b[1;33m)\u001b[0m\u001b[1;33m\u001b[0m\u001b[1;33m\u001b[0m\u001b[0m\n\u001b[0m",
      "\u001b[1;32mC:\\Users\\SIVA~1.ALA\\AppData\\Local\\Temp/ipykernel_21236/673464250.py\u001b[0m in \u001b[0;36mto_keras_format\u001b[1;34m(txt_bz_file, output_path)\u001b[0m\n\u001b[0;32m     23\u001b[0m             \u001b[0mrow_numbers\u001b[0m\u001b[1;33m[\u001b[0m\u001b[0mlabel\u001b[0m\u001b[1;33m]\u001b[0m \u001b[1;33m+=\u001b[0m \u001b[1;36m1\u001b[0m\u001b[1;33m\u001b[0m\u001b[1;33m\u001b[0m\u001b[0m\n\u001b[0;32m     24\u001b[0m             \u001b[0mout_file_name\u001b[0m \u001b[1;33m=\u001b[0m \u001b[1;34mf\"{output_path}/{label_names[label]}/review_{row_numbers[label]}.txt\"\u001b[0m\u001b[1;33m\u001b[0m\u001b[1;33m\u001b[0m\u001b[0m\n\u001b[1;32m---> 25\u001b[1;33m             \u001b[0mout_file\u001b[0m \u001b[1;33m=\u001b[0m \u001b[0mopen\u001b[0m\u001b[1;33m(\u001b[0m\u001b[0mout_file_name\u001b[0m\u001b[1;33m,\u001b[0m \u001b[1;34m\"wt\"\u001b[0m\u001b[1;33m,\u001b[0m \u001b[0mencoding\u001b[0m\u001b[1;33m=\u001b[0m\u001b[1;34m'utf-8'\u001b[0m\u001b[1;33m)\u001b[0m\u001b[1;33m\u001b[0m\u001b[1;33m\u001b[0m\u001b[0m\n\u001b[0m\u001b[0;32m     26\u001b[0m             \u001b[0mout_file\u001b[0m\u001b[1;33m.\u001b[0m\u001b[0mwrite\u001b[0m\u001b[1;33m(\u001b[0m\u001b[0mreview\u001b[0m\u001b[1;33m)\u001b[0m\u001b[1;33m\u001b[0m\u001b[1;33m\u001b[0m\u001b[0m\n\u001b[0;32m     27\u001b[0m             \u001b[0mout_file\u001b[0m\u001b[1;33m.\u001b[0m\u001b[0mclose\u001b[0m\u001b[1;33m(\u001b[0m\u001b[1;33m)\u001b[0m\u001b[1;33m\u001b[0m\u001b[1;33m\u001b[0m\u001b[0m\n",
      "\u001b[1;32m~\\Anaconda3\\lib\\codecs.py\u001b[0m in \u001b[0;36m__init__\u001b[1;34m(self, errors)\u001b[0m\n\u001b[0;32m    184\u001b[0m     \u001b[0mremembers\u001b[0m \u001b[0mthe\u001b[0m \u001b[0mstate\u001b[0m \u001b[0mof\u001b[0m \u001b[0mthe\u001b[0m \u001b[0mencoding\u001b[0m \u001b[0mprocess\u001b[0m \u001b[0mbetween\u001b[0m \u001b[0mcalls\u001b[0m \u001b[0mto\u001b[0m \u001b[0mencode\u001b[0m\u001b[1;33m(\u001b[0m\u001b[1;33m)\u001b[0m\u001b[1;33m.\u001b[0m\u001b[1;33m\u001b[0m\u001b[1;33m\u001b[0m\u001b[0m\n\u001b[0;32m    185\u001b[0m     \"\"\"\n\u001b[1;32m--> 186\u001b[1;33m     \u001b[1;32mdef\u001b[0m \u001b[0m__init__\u001b[0m\u001b[1;33m(\u001b[0m\u001b[0mself\u001b[0m\u001b[1;33m,\u001b[0m \u001b[0merrors\u001b[0m\u001b[1;33m=\u001b[0m\u001b[1;34m'strict'\u001b[0m\u001b[1;33m)\u001b[0m\u001b[1;33m:\u001b[0m\u001b[1;33m\u001b[0m\u001b[1;33m\u001b[0m\u001b[0m\n\u001b[0m\u001b[0;32m    187\u001b[0m         \"\"\"\n\u001b[0;32m    188\u001b[0m         \u001b[0mCreates\u001b[0m \u001b[0man\u001b[0m \u001b[0mIncrementalEncoder\u001b[0m \u001b[0minstance\u001b[0m\u001b[1;33m.\u001b[0m\u001b[1;33m\u001b[0m\u001b[1;33m\u001b[0m\u001b[0m\n",
      "\u001b[1;31mKeyboardInterrupt\u001b[0m: "
     ]
    }
   ],
   "source": [
    "to_keras_format(\"data/train.ft.txt.bz2\", \"data/train\")"
   ]
  },
  {
   "cell_type": "code",
   "execution_count": null,
   "id": "7c8e9f5c",
   "metadata": {},
   "outputs": [],
   "source": []
  }
 ],
 "metadata": {
  "kernelspec": {
   "display_name": "Python 3 (ipykernel)",
   "language": "python",
   "name": "python3"
  },
  "language_info": {
   "codemirror_mode": {
    "name": "ipython",
    "version": 3
   },
   "file_extension": ".py",
   "mimetype": "text/x-python",
   "name": "python",
   "nbconvert_exporter": "python",
   "pygments_lexer": "ipython3",
   "version": "3.8.11"
  }
 },
 "nbformat": 4,
 "nbformat_minor": 5
}
