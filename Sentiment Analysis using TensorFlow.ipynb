{
 "cells": [
  {
   "cell_type": "markdown",
   "id": "ae51e88e",
   "metadata": {},
   "source": [
    "### Introduction"
   ]
  },
  {
   "cell_type": "markdown",
   "id": "6e987e57",
   "metadata": {},
   "source": [
    "This project uses TensorFlow to build a neural network that uses embedding, and a convolution layer to do the sentiment analysis."
   ]
  },
  {
   "cell_type": "markdown",
   "id": "b7daf49f",
   "metadata": {},
   "source": [
    "### Imports"
   ]
  },
  {
   "cell_type": "code",
   "execution_count": 1,
   "id": "5605a33a",
   "metadata": {},
   "outputs": [
    {
     "name": "stdout",
     "output_type": "stream",
     "text": [
      "2.3.0\n"
     ]
    }
   ],
   "source": [
    "import matplotlib.pyplot as plt\n",
    "import os\n",
    "import re\n",
    "import shutil\n",
    "import string\n",
    "import nltk\n",
    "import bz2\n",
    "import tensorflow as tf\n",
    "import pandas as pd\n",
    "from sklearn.model_selection import train_test_split\n",
    "\n",
    "from tensorflow.keras import layers\n",
    "from tensorflow.keras import losses\n",
    "from tensorflow.keras import preprocessing\n",
    "from tensorflow.keras.layers.experimental.preprocessing import TextVectorization\n",
    "\n",
    "print(tf.__version__)"
   ]
  },
  {
   "cell_type": "markdown",
   "id": "ed64df78",
   "metadata": {},
   "source": [
    "### Load the training set"
   ]
  },
  {
   "cell_type": "markdown",
   "id": "3030a684",
   "metadata": {},
   "source": [
    "Since we don't have a validation set, we will split the training by 80:20 and use the 20% for validation. The seed is critical to make sure the same rows don't go into the validation set and training set when we make the same call again for validation set"
   ]
  },
  {
   "cell_type": "code",
   "execution_count": 2,
   "id": "aa70df80",
   "metadata": {},
   "outputs": [
    {
     "name": "stdout",
     "output_type": "stream",
     "text": [
      "Found 2860421 files belonging to 2 classes.\n",
      "Using 2288337 files for training.\n"
     ]
    }
   ],
   "source": [
    "batch_size = 32\n",
    "seed = 42\n",
    "\n",
    "raw_train_ds = tf.keras.preprocessing.text_dataset_from_directory(\n",
    "    'data/train', \n",
    "    batch_size=batch_size, \n",
    "    validation_split=0.2, \n",
    "    subset='training', \n",
    "    seed=seed)"
   ]
  },
  {
   "cell_type": "markdown",
   "id": "f2de6888",
   "metadata": {},
   "source": [
    "### Load the validation set"
   ]
  },
  {
   "cell_type": "code",
   "execution_count": 3,
   "id": "750eb8c5",
   "metadata": {},
   "outputs": [
    {
     "name": "stdout",
     "output_type": "stream",
     "text": [
      "Found 2860421 files belonging to 2 classes.\n",
      "Using 572084 files for validation.\n"
     ]
    }
   ],
   "source": [
    "raw_val_ds = tf.keras.preprocessing.text_dataset_from_directory(\n",
    "    'data/train', \n",
    "    batch_size=batch_size, \n",
    "    validation_split=0.2, \n",
    "    subset='validation', \n",
    "    seed=seed)"
   ]
  },
  {
   "cell_type": "markdown",
   "id": "f118e4e3",
   "metadata": {},
   "source": [
    "### Load the test set"
   ]
  },
  {
   "cell_type": "code",
   "execution_count": 4,
   "id": "b9d96e2c",
   "metadata": {},
   "outputs": [
    {
     "name": "stdout",
     "output_type": "stream",
     "text": [
      "Found 400000 files belonging to 2 classes.\n"
     ]
    }
   ],
   "source": [
    "raw_test_ds = tf.keras.preprocessing.text_dataset_from_directory(\n",
    "    'data/test', \n",
    "    batch_size=batch_size)"
   ]
  },
  {
   "cell_type": "markdown",
   "id": "4b5c4eb6",
   "metadata": {},
   "source": [
    "### Define functions to preprocess the text"
   ]
  },
  {
   "cell_type": "markdown",
   "id": "88e3705d",
   "metadata": {},
   "source": [
    "Load the stop words, lemmatizer and english corpus"
   ]
  },
  {
   "cell_type": "code",
   "execution_count": 5,
   "id": "aa067980",
   "metadata": {},
   "outputs": [
    {
     "name": "stderr",
     "output_type": "stream",
     "text": [
      "[nltk_data] Downloading package stopwords to\n",
      "[nltk_data]     C:\\Users\\siva.alagarsamy\\AppData\\Roaming\\nltk_data...\n",
      "[nltk_data]   Package stopwords is already up-to-date!\n",
      "[nltk_data] Downloading package wordnet to\n",
      "[nltk_data]     C:\\Users\\siva.alagarsamy\\AppData\\Roaming\\nltk_data...\n",
      "[nltk_data]   Package wordnet is already up-to-date!\n",
      "[nltk_data] Downloading package words to\n",
      "[nltk_data]     C:\\Users\\siva.alagarsamy\\AppData\\Roaming\\nltk_data...\n",
      "[nltk_data]   Package words is already up-to-date!\n"
     ]
    }
   ],
   "source": [
    "nltk.download('stopwords')\n",
    "stop_words = set(nltk.corpus.stopwords.words('english'))\n",
    "\n",
    "nltk.download('wordnet')\n",
    "lemmatizer = nltk.stem.WordNetLemmatizer()\n",
    "\n",
    "# Downloads all english dictionary words\n",
    "nltk.download('words')\n",
    "english_words = set(nltk.corpus.words.words())"
   ]
  },
  {
   "cell_type": "code",
   "execution_count": 6,
   "id": "04236f46",
   "metadata": {},
   "outputs": [],
   "source": [
    "punctuations = \"!@#$%^&*()_-+={[}]|\\:;'<,>.?/~`\"\n",
    "\n",
    "def preprocess_text(text):\n",
    "    words = []\n",
    "    tokens = re.findall('\\w+', str(text))\n",
    "    for w in tokens:\n",
    "        # Convert to lower\n",
    "        w = w.lower()\n",
    "        \n",
    "        # Remove punctuations\n",
    "        w = \"\".join([char for char in w if char not in punctuations])\n",
    "        \n",
    "        # Don't add word if it is a stopword\n",
    "        if w not in stop_words:      \n",
    "            \n",
    "            # Make sure it is valid english word\n",
    "            if w in english_words:\n",
    "                # Lemmatize word\n",
    "                w = lemmatizer.lemmatize(w, 'v')  #Assume most of the review is verb part of the speech (POS)\n",
    "                words.append(w)\n",
    "    return \" \".join(words)       "
   ]
  },
  {
   "cell_type": "code",
   "execution_count": 7,
   "id": "544e120b",
   "metadata": {},
   "outputs": [],
   "source": [
    "def custom_standardization(input_data):\n",
    "    lowercase = tf.strings.lower(input_data)\n",
    "    return tf.strings.regex_replace(lowercase,\n",
    "                                  '[%s]' % re.escape(string.punctuation),\n",
    "                                  '')\n"
   ]
  },
  {
   "cell_type": "markdown",
   "id": "a86c11d3",
   "metadata": {},
   "source": [
    "### Create the vectorization layer"
   ]
  },
  {
   "cell_type": "code",
   "execution_count": 8,
   "id": "6c49a439",
   "metadata": {},
   "outputs": [],
   "source": [
    "max_features = 10000\n",
    "sequence_length = 250\n",
    "\n",
    "vectorize_layer = TextVectorization(\n",
    "    standardize=custom_standardization,\n",
    "    max_tokens=max_features,\n",
    "    output_mode='int',\n",
    "    output_sequence_length=sequence_length)"
   ]
  },
  {
   "cell_type": "markdown",
   "id": "a4f5c4e9",
   "metadata": {},
   "source": [
    "### Adapt the vectorization layer to the train dataset"
   ]
  },
  {
   "cell_type": "code",
   "execution_count": 9,
   "id": "8a4511e2",
   "metadata": {},
   "outputs": [
    {
     "data": {
      "text/plain": [
       "10000"
      ]
     },
     "execution_count": 9,
     "metadata": {},
     "output_type": "execute_result"
    }
   ],
   "source": [
    "# Make a text-only dataset (without labels), then call adapt\n",
    "train_text = raw_train_ds.map(lambda x, y: x)\n",
    "vectorize_layer.adapt(train_text)\n",
    "len(vectorize_layer.get_vocabulary())"
   ]
  },
  {
   "cell_type": "markdown",
   "id": "2a518d8a",
   "metadata": {},
   "source": [
    "### Define a vectorization function"
   ]
  },
  {
   "cell_type": "code",
   "execution_count": 10,
   "id": "66e2361b",
   "metadata": {},
   "outputs": [],
   "source": [
    "def vectorize_text(text, label):\n",
    "    text = tf.expand_dims(text, -1)\n",
    "    return vectorize_layer(text), label"
   ]
  },
  {
   "cell_type": "markdown",
   "id": "3259b4d7",
   "metadata": {},
   "source": [
    "### Create a train, validation and test dataset with the vectorization function"
   ]
  },
  {
   "cell_type": "code",
   "execution_count": 11,
   "id": "adf654cc",
   "metadata": {},
   "outputs": [],
   "source": [
    "train_ds = raw_train_ds.map(vectorize_text)\n",
    "val_ds = raw_val_ds.map(vectorize_text)\n",
    "test_ds = raw_test_ds.map(vectorize_text)"
   ]
  },
  {
   "cell_type": "markdown",
   "id": "705f473a",
   "metadata": {},
   "source": [
    "### Optimize the dataset"
   ]
  },
  {
   "cell_type": "code",
   "execution_count": 12,
   "id": "c42bc222",
   "metadata": {},
   "outputs": [],
   "source": [
    "AUTOTUNE = tf.data.experimental.AUTOTUNE\n",
    "\n",
    "train_ds = train_ds.cache().prefetch(buffer_size=AUTOTUNE)\n",
    "val_ds = val_ds.cache().prefetch(buffer_size=AUTOTUNE)\n",
    "test_ds = test_ds.cache().prefetch(buffer_size=AUTOTUNE)"
   ]
  },
  {
   "cell_type": "markdown",
   "id": "df5d4827",
   "metadata": {},
   "source": [
    "### Define the model"
   ]
  },
  {
   "cell_type": "markdown",
   "id": "e91d75a3",
   "metadata": {},
   "source": [
    "The first layer is an Embedding layer. This layer takes the integer-encoded reviews and looks up an embedding vector for each word-index. These vectors are learned as the model trains. The vectors add a dimension to the output array. The resulting dimensions are: (batch, sequence, embedding).\n",
    "\n",
    "Next, a GlobalAveragePooling1D layer returns a fixed-length output vector for each example by averaging over the sequence dimension. This allows the model to handle input of variable length, in the simplest way possible.\n",
    "\n",
    "This fixed-length output vector is piped through a fully-connected (Dense) layer with 16 hidden units.\n",
    "The last layer is densely connected with a single output node.\n",
    "\n",
    "We also add a Dropout layer to avoid overfitting"
   ]
  },
  {
   "cell_type": "code",
   "execution_count": 13,
   "id": "03abf209",
   "metadata": {},
   "outputs": [
    {
     "name": "stdout",
     "output_type": "stream",
     "text": [
      "Model: \"sequential\"\n",
      "_________________________________________________________________\n",
      "Layer (type)                 Output Shape              Param #   \n",
      "=================================================================\n",
      "embedding (Embedding)        (None, None, 16)          160016    \n",
      "_________________________________________________________________\n",
      "dropout (Dropout)            (None, None, 16)          0         \n",
      "_________________________________________________________________\n",
      "global_average_pooling1d (Gl (None, 16)                0         \n",
      "_________________________________________________________________\n",
      "dropout_1 (Dropout)          (None, 16)                0         \n",
      "_________________________________________________________________\n",
      "dense (Dense)                (None, 1)                 17        \n",
      "=================================================================\n",
      "Total params: 160,033\n",
      "Trainable params: 160,033\n",
      "Non-trainable params: 0\n",
      "_________________________________________________________________\n"
     ]
    }
   ],
   "source": [
    "embedding_dim = 16\n",
    "\n",
    "model = tf.keras.Sequential([\n",
    "  layers.Embedding(max_features + 1, embedding_dim),\n",
    "  layers.Dropout(0.2),\n",
    "  layers.GlobalAveragePooling1D(),\n",
    "  layers.Dropout(0.2),\n",
    "  layers.Dense(1)])\n",
    "\n",
    "model.summary()"
   ]
  },
  {
   "cell_type": "markdown",
   "id": "2eb43178",
   "metadata": {},
   "source": [
    "### Compile the model"
   ]
  },
  {
   "cell_type": "code",
   "execution_count": 14,
   "id": "d268a035",
   "metadata": {},
   "outputs": [],
   "source": [
    "model.compile(loss=losses.BinaryCrossentropy(from_logits=True),\n",
    "              optimizer='adam',\n",
    "              metrics=tf.metrics.BinaryAccuracy(threshold=0.0))"
   ]
  },
  {
   "cell_type": "markdown",
   "id": "666e8523",
   "metadata": {},
   "source": [
    "### Train the mode"
   ]
  },
  {
   "cell_type": "code",
   "execution_count": 15,
   "id": "43f8ec84",
   "metadata": {},
   "outputs": [
    {
     "name": "stdout",
     "output_type": "stream",
     "text": [
      "Epoch 1/10\n",
      "71511/71511 [==============================] - 5003s 70ms/step - loss: 0.2769 - binary_accuracy: 0.8929 - val_loss: 0.2497 - val_binary_accuracy: 0.9044\n",
      "Epoch 2/10\n",
      "71511/71511 [==============================] - 643s 9ms/step - loss: 0.2511 - binary_accuracy: 0.9039 - val_loss: 0.2488 - val_binary_accuracy: 0.9051\n",
      "Epoch 3/10\n",
      "71511/71511 [==============================] - 616s 9ms/step - loss: 0.2504 - binary_accuracy: 0.9044 - val_loss: 0.2481 - val_binary_accuracy: 0.9055\n",
      "Epoch 4/10\n",
      "71511/71511 [==============================] - 600s 8ms/step - loss: 0.2498 - binary_accuracy: 0.9047 - val_loss: 0.2480 - val_binary_accuracy: 0.9056\n",
      "Epoch 5/10\n",
      "71511/71511 [==============================] - 579s 8ms/step - loss: 0.2493 - binary_accuracy: 0.9049 - val_loss: 0.2477 - val_binary_accuracy: 0.9058\n",
      "Epoch 6/10\n",
      "71511/71511 [==============================] - 578s 8ms/step - loss: 0.2490 - binary_accuracy: 0.9052 - val_loss: 0.2471 - val_binary_accuracy: 0.9060\n",
      "Epoch 7/10\n",
      "71511/71511 [==============================] - 608s 9ms/step - loss: 0.2487 - binary_accuracy: 0.9054 - val_loss: 0.2472 - val_binary_accuracy: 0.9061\n",
      "Epoch 8/10\n",
      "71511/71511 [==============================] - 585s 8ms/step - loss: 0.2485 - binary_accuracy: 0.9053 - val_loss: 0.2468 - val_binary_accuracy: 0.9062\n",
      "Epoch 9/10\n",
      "71511/71511 [==============================] - 594s 8ms/step - loss: 0.2484 - binary_accuracy: 0.9054 - val_loss: 0.2467 - val_binary_accuracy: 0.9063\n",
      "Epoch 10/10\n",
      "71511/71511 [==============================] - 628s 9ms/step - loss: 0.2481 - binary_accuracy: 0.9055 - val_loss: 0.2465 - val_binary_accuracy: 0.9063\n"
     ]
    }
   ],
   "source": [
    "epochs = 10\n",
    "history = model.fit(\n",
    "    train_ds,\n",
    "    validation_data=val_ds,\n",
    "    epochs=epochs)"
   ]
  },
  {
   "cell_type": "markdown",
   "id": "957f3a56",
   "metadata": {},
   "source": [
    "### Evaluate the model with the test dataset"
   ]
  },
  {
   "cell_type": "code",
   "execution_count": 16,
   "id": "cf90d04e",
   "metadata": {},
   "outputs": [
    {
     "name": "stdout",
     "output_type": "stream",
     "text": [
      "12500/12500 [==============================] - 670s 54ms/step - loss: 0.2468 - binary_accuracy: 0.90601s - loss: 0.2468 - binary_ac\n",
      "Loss:  0.24679097533226013\n",
      "Accuracy:  0.9059774875640869\n"
     ]
    }
   ],
   "source": [
    "loss, accuracy = model.evaluate(test_ds)\n",
    "\n",
    "print(\"Loss: \", loss)\n",
    "print(\"Accuracy: \", accuracy)"
   ]
  },
  {
   "cell_type": "markdown",
   "id": "872be972",
   "metadata": {},
   "source": [
    "### Plot the loss over the training interatio"
   ]
  },
  {
   "cell_type": "code",
   "execution_count": 17,
   "id": "e21bbf7e",
   "metadata": {},
   "outputs": [
    {
     "data": {
      "image/png": "[encoded data removed]",
      "text/plain": [
       "<Figure size 432x288 with 1 Axes>"
      ]
     },
     "metadata": {
      "needs_background": "light"
     },
     "output_type": "display_data"
    }
   ],
   "source": [
    "history_dict = history.history\n",
    "history_dict.keys()\n",
    "\n",
    "acc = history_dict['binary_accuracy']\n",
    "val_acc = history_dict['val_binary_accuracy']\n",
    "loss = history_dict['loss']\n",
    "val_loss = history_dict['val_loss']\n",
    "\n",
    "epochs = range(1, len(acc) + 1)\n",
    "\n",
    "# \"bo\" is for \"blue dot\"\n",
    "plt.plot(epochs, loss, 'bo', label='Training loss')\n",
    "# b is for \"solid blue line\"\n",
    "plt.plot(epochs, val_loss, 'b', label='Validation loss')\n",
    "plt.title('Training and validation loss')\n",
    "plt.xlabel('Epochs')\n",
    "plt.ylabel('Loss')\n",
    "plt.legend()\n",
    "\n",
    "plt.show()"
   ]
  },
  {
   "cell_type": "markdown",
   "id": "c4c707d6",
   "metadata": {},
   "source": [
    "###  Plot the accuracy over the training iterations"
   ]
  },
  {
   "cell_type": "code",
   "execution_count": 18,
   "id": "27a0b35b",
   "metadata": {},
   "outputs": [
    {
     "data": {
      "image/png": "[encoded data removed]",
      "text/plain": [
       "<Figure size 432x288 with 1 Axes>"
      ]
     },
     "metadata": {
      "needs_background": "light"
     },
     "output_type": "display_data"
    }
   ],
   "source": [
    "plt.plot(epochs, acc, 'bo', label='Training acc')\n",
    "plt.plot(epochs, val_acc, 'b', label='Validation acc')\n",
    "plt.title('Training and validation accuracy')\n",
    "plt.xlabel('Epochs')\n",
    "plt.ylabel('Accuracy')\n",
    "plt.legend(loc='lower right')\n",
    "\n",
    "plt.show()"
   ]
  },
  {
   "cell_type": "markdown",
   "id": "142027ea",
   "metadata": {},
   "source": [
    "### Export the model to a file"
   ]
  },
  {
   "cell_type": "code",
   "execution_count": null,
   "id": "a11a173a",
   "metadata": {},
   "outputs": [],
   "source": [
    "The model has to be wrapped with the vectorizer layer and an input layer. We added a sigmoid activation layer"
   ]
  },
  {
   "cell_type": "code",
   "execution_count": 41,
   "id": "a5dabed7",
   "metadata": {},
   "outputs": [
    {
     "name": "stdout",
     "output_type": "stream",
     "text": [
      "WARNING:tensorflow:AutoGraph could not transform <function _trace_save_and_restore_function.<locals>.save_fn at 0x00000218D1D04940> and will run it as-is.\n",
      "Please report this to the TensorFlow team. When filing the bug, set the verbosity to 10 (on Linux, `export AUTOGRAPH_VERBOSITY=10`) and attach the full output.\n",
      "Cause: module 'gast' has no attribute 'Index'\n",
      "To silence this warning, decorate the function with @tf.autograph.experimental.do_not_convert\n",
      "WARNING: AutoGraph could not transform <function _trace_save_and_restore_function.<locals>.save_fn at 0x00000218D1D04940> and will run it as-is.\n",
      "Please report this to the TensorFlow team. When filing the bug, set the verbosity to 10 (on Linux, `export AUTOGRAPH_VERBOSITY=10`) and attach the full output.\n",
      "Cause: module 'gast' has no attribute 'Index'\n",
      "To silence this warning, decorate the function with @tf.autograph.experimental.do_not_convert\n",
      "WARNING:tensorflow:AutoGraph could not transform <function _trace_save_and_restore_function.<locals>.save_fn at 0x00000218DA47F820> and will run it as-is.\n",
      "Please report this to the TensorFlow team. When filing the bug, set the verbosity to 10 (on Linux, `export AUTOGRAPH_VERBOSITY=10`) and attach the full output.\n",
      "Cause: module 'gast' has no attribute 'Index'\n",
      "To silence this warning, decorate the function with @tf.autograph.experimental.do_not_convert\n",
      "WARNING: AutoGraph could not transform <function _trace_save_and_restore_function.<locals>.save_fn at 0x00000218DA47F820> and will run it as-is.\n",
      "Please report this to the TensorFlow team. When filing the bug, set the verbosity to 10 (on Linux, `export AUTOGRAPH_VERBOSITY=10`) and attach the full output.\n",
      "Cause: module 'gast' has no attribute 'Index'\n",
      "To silence this warning, decorate the function with @tf.autograph.experimental.do_not_convert\n",
      "INFO:tensorflow:Assets written to: export_model\\assets\n"
     ]
    }
   ],
   "source": [
    "export_model = tf.keras.Sequential([\n",
    "  tf.keras.Input(shape=(1,), dtype=\"string\"),\n",
    "  vectorize_layer,\n",
    "  model,\n",
    "  layers.Activation('sigmoid')\n",
    "])\n",
    "\n",
    "export_model.compile(\n",
    "    loss=losses.BinaryCrossentropy(from_logits=False), optimizer=\"adam\", metrics=['accuracy']\n",
    ")\n",
    "export_model.save('export_model')"
   ]
  },
  {
   "cell_type": "code",
   "execution_count": null,
   "id": "80ecdc44",
   "metadata": {},
   "outputs": [],
   "source": []
  }
 ],
 "metadata": {
  "kernelspec": {
   "display_name": "Python 3 (ipykernel)",
   "language": "python",
   "name": "python3"
  },
  "language_info": {
   "codemirror_mode": {
    "name": "ipython",
    "version": 3
   },
   "file_extension": ".py",
   "mimetype": "text/x-python",
   "name": "python",
   "nbconvert_exporter": "python",
   "pygments_lexer": "ipython3",
   "version": "3.8.11"
  }
 },
 "nbformat": 4,
 "nbformat_minor": 5
}
