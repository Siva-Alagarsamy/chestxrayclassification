{
 "cells": [
  {
   "cell_type": "markdown",
   "id": "9b407a2c",
   "metadata": {},
   "source": [
    "### Imports"
   ]
  },
  {
   "cell_type": "code",
   "execution_count": 143,
   "id": "f32c22a4",
   "metadata": {},
   "outputs": [],
   "source": [
    "import pandas as pd\n",
    "import numpy as np\n",
    "import bz2\n",
    "import os\n",
    "import matplotlib.pyplot as plt\n",
    "from google.cloud import language_v1"
   ]
  },
  {
   "cell_type": "markdown",
   "id": "bbf54bbc",
   "metadata": {},
   "source": [
    "### Set google API key"
   ]
  },
  {
   "cell_type": "code",
   "execution_count": 99,
   "id": "2081ce43",
   "metadata": {},
   "outputs": [],
   "source": [
    "os.environ[\"GOOGLE_APPLICATION_CREDENTIALS\"]=\"fleet-cirrus-314101-a80b88dac6af.json\""
   ]
  },
  {
   "cell_type": "markdown",
   "id": "d89e6635",
   "metadata": {},
   "source": [
    "### Function to open the file and return a dataframe"
   ]
  },
  {
   "cell_type": "code",
   "execution_count": 113,
   "id": "82852ace",
   "metadata": {},
   "outputs": [],
   "source": [
    "def analyze_file(txt_bz_file):\n",
    "    sentiments = []\n",
    "    reviews = []\n",
    "    google_score = []\n",
    "    google_magnitude = []\n",
    "    \n",
    "    client = language_v1.LanguageServiceClient()\n",
    "    \n",
    "    with bz2.open(txt_bz_file, \"rt\", encoding='utf-8') as bz_file:\n",
    "        for line in bz_file:\n",
    "            label, review = line.split(' ', maxsplit=1)\n",
    "            sentiments.append(int(label[9:]))\n",
    "            reviews.append(review)\n",
    "            \n",
    "            doc = language_v1.types.Document(\n",
    "                content=review,\n",
    "                type=language_v1.enums.Document.Type.PLAIN_TEXT)\n",
    "            \n",
    "            response = client.analyze_sentiment(document = doc, encoding_type=language_v1.enums.EncodingType.UTF8)\n",
    "            \n",
    "            google_score.append(response.document_sentiment.score)\n",
    "            google_magnitude.append(response.document_sentiment.magnitude)\n",
    "            \n",
    "    df = pd.DataFrame({'sentiment':sentiments,\n",
    "                        'review':reviews,\n",
    "                        'google_sentiment_score' : google_score,\n",
    "                        'google_sentiment_magnitude' : google_magnitude,\n",
    "                      })\n",
    "    return df"
   ]
  },
  {
   "cell_type": "markdown",
   "id": "00c0a04e",
   "metadata": {},
   "source": [
    "### Analyze the file"
   ]
  },
  {
   "cell_type": "code",
   "execution_count": 115,
   "id": "9419f12b",
   "metadata": {},
   "outputs": [
    {
     "data": {
      "text/html": [
       "<div>\n",
       "<style scoped>\n",
       "    .dataframe tbody tr th:only-of-type {\n",
       "        vertical-align: middle;\n",
       "    }\n",
       "\n",
       "    .dataframe tbody tr th {\n",
       "        vertical-align: top;\n",
       "    }\n",
       "\n",
       "    .dataframe thead th {\n",
       "        text-align: right;\n",
       "    }\n",
       "</style>\n",
       "<table border=\"1\" class=\"dataframe\">\n",
       "  <thead>\n",
       "    <tr style=\"text-align: right;\">\n",
       "      <th></th>\n",
       "      <th>sentiment</th>\n",
       "      <th>review</th>\n",
       "      <th>google_sentiment_score</th>\n",
       "      <th>google_sentiment_magnitude</th>\n",
       "    </tr>\n",
       "  </thead>\n",
       "  <tbody>\n",
       "    <tr>\n",
       "      <th>0</th>\n",
       "      <td>2</td>\n",
       "      <td>Great CD: My lovely Pat has one of the GREAT v...</td>\n",
       "      <td>0.2</td>\n",
       "      <td>5.9</td>\n",
       "    </tr>\n",
       "    <tr>\n",
       "      <th>1</th>\n",
       "      <td>2</td>\n",
       "      <td>One of the best game music soundtracks - for a...</td>\n",
       "      <td>0.6</td>\n",
       "      <td>3.4</td>\n",
       "    </tr>\n",
       "    <tr>\n",
       "      <th>2</th>\n",
       "      <td>1</td>\n",
       "      <td>Batteries died within a year ...: I bought thi...</td>\n",
       "      <td>-0.2</td>\n",
       "      <td>2.7</td>\n",
       "    </tr>\n",
       "    <tr>\n",
       "      <th>3</th>\n",
       "      <td>2</td>\n",
       "      <td>works fine, but Maha Energy is better: Check o...</td>\n",
       "      <td>0.2</td>\n",
       "      <td>0.8</td>\n",
       "    </tr>\n",
       "    <tr>\n",
       "      <th>4</th>\n",
       "      <td>2</td>\n",
       "      <td>Great for the non-audiophile: Reviewed quite a...</td>\n",
       "      <td>0.6</td>\n",
       "      <td>1.8</td>\n",
       "    </tr>\n",
       "  </tbody>\n",
       "</table>\n",
       "</div>"
      ],
      "text/plain": [
       "   sentiment                                             review  \\\n",
       "0          2  Great CD: My lovely Pat has one of the GREAT v...   \n",
       "1          2  One of the best game music soundtracks - for a...   \n",
       "2          1  Batteries died within a year ...: I bought thi...   \n",
       "3          2  works fine, but Maha Energy is better: Check o...   \n",
       "4          2  Great for the non-audiophile: Reviewed quite a...   \n",
       "\n",
       "   google_sentiment_score  google_sentiment_magnitude  \n",
       "0                     0.2                         5.9  \n",
       "1                     0.6                         3.4  \n",
       "2                    -0.2                         2.7  \n",
       "3                     0.2                         0.8  \n",
       "4                     0.6                         1.8  "
      ]
     },
     "execution_count": 115,
     "metadata": {},
     "output_type": "execute_result"
    }
   ],
   "source": [
    "test_df = analyze_file(r'google_analysis_test.ft.txt.bz2')"
   ]
  },
  {
   "cell_type": "markdown",
   "id": "52fe0da9",
   "metadata": {},
   "source": [
    "### Save the results"
   ]
  },
  {
   "cell_type": "code",
   "execution_count": 117,
   "id": "054d9229",
   "metadata": {},
   "outputs": [],
   "source": [
    "test_df.to_csv(r'google_analysis_test.result.csv')"
   ]
  },
  {
   "cell_type": "markdown",
   "id": "68af830d",
   "metadata": {},
   "source": [
    "### Benchmark the result"
   ]
  },
  {
   "cell_type": "code",
   "execution_count": 122,
   "id": "1e669dbe",
   "metadata": {},
   "outputs": [],
   "source": [
    "def check_result(row):\n",
    "    if row['sentiment'] == 2 :\n",
    "        return row['google_sentiment_score'] >= 0.2\n",
    "    else :\n",
    "        return row['google_sentiment_score'] <  0.2\n",
    "\n",
    "test_df['google_model_pass'] = test_df.apply(check_result, axis=1)"
   ]
  },
  {
   "cell_type": "markdown",
   "id": "d1eb94ba",
   "metadata": {},
   "source": [
    "###  Provide statistics of model result"
   ]
  },
  {
   "cell_type": "code",
   "execution_count": 150,
   "id": "03794f52",
   "metadata": {},
   "outputs": [
    {
     "data": {
      "text/plain": [
       "True     448\n",
       "False     52\n",
       "Name: google_model_pass, dtype: int64"
      ]
     },
     "execution_count": 150,
     "metadata": {},
     "output_type": "execute_result"
    }
   ],
   "source": [
    "test_df.google_model_pass.value_counts()"
   ]
  },
  {
   "cell_type": "code",
   "execution_count": 144,
   "id": "82b67a5b",
   "metadata": {},
   "outputs": [
    {
     "data": {
      "text/plain": [
       "<AxesSubplot:>"
      ]
     },
     "execution_count": 144,
     "metadata": {},
     "output_type": "execute_result"
    },
    {
     "data": {
      "image/png": "[encoded data removed]",
      "text/plain": [
       "<Figure size 432x288 with 1 Axes>"
      ]
     },
     "metadata": {
      "needs_background": "light"
     },
     "output_type": "display_data"
    }
   ],
   "source": [
    "test_df.google_model_pass.value_counts().plot(kind='bar')"
   ]
  },
  {
   "cell_type": "code",
   "execution_count": null,
   "id": "6ed495e9",
   "metadata": {},
   "outputs": [],
   "source": []
  }
 ],
 "metadata": {
  "kernelspec": {
   "display_name": "Python 3 (ipykernel)",
   "language": "python",
   "name": "python3"
  },
  "language_info": {
   "codemirror_mode": {
    "name": "ipython",
    "version": 3
   },
   "file_extension": ".py",
   "mimetype": "text/x-python",
   "name": "python",
   "nbconvert_exporter": "python",
   "pygments_lexer": "ipython3",
   "version": "3.8.11"
  }
 },
 "nbformat": 4,
 "nbformat_minor": 5
}
